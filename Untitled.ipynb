{
 "cells": [
  {
   "cell_type": "code",
   "execution_count": 14,
   "metadata": {},
   "outputs": [],
   "source": [
    "import math\n",
    "import numpy as np \n",
    "import pandas as pd \n",
    "from matplotlib import pyplot as plt\n",
    "\n",
    "\n",
    "from tqdm.notebook import tqdm\n",
    "\n",
    "import dash\n",
    "import dash_core_components as dcc\n",
    "import dash_html_components as html\n",
    "from dash.dependencies import Input, Output\n",
    "import plotly.express as px\n",
    "import plotly.graph_objects as go\n",
    "from plotly.subplots import make_subplots"
   ]
  },
  {
   "cell_type": "code",
   "execution_count": 15,
   "metadata": {
    "scrolled": true
   },
   "outputs": [
    {
     "data": {
      "text/html": [
       "<div>\n",
       "<style scoped>\n",
       "    .dataframe tbody tr th:only-of-type {\n",
       "        vertical-align: middle;\n",
       "    }\n",
       "\n",
       "    .dataframe tbody tr th {\n",
       "        vertical-align: top;\n",
       "    }\n",
       "\n",
       "    .dataframe thead th {\n",
       "        text-align: right;\n",
       "    }\n",
       "</style>\n",
       "<table border=\"1\" class=\"dataframe\">\n",
       "  <thead>\n",
       "    <tr style=\"text-align: right;\">\n",
       "      <th></th>\n",
       "      <th>areaType</th>\n",
       "      <th>areaName</th>\n",
       "      <th>areaCode</th>\n",
       "      <th>date</th>\n",
       "      <th>newCasesBySpecimenDate</th>\n",
       "      <th>cumCasesBySpecimenDate</th>\n",
       "    </tr>\n",
       "  </thead>\n",
       "  <tbody>\n",
       "    <tr>\n",
       "      <th>0</th>\n",
       "      <td>overview</td>\n",
       "      <td>United Kingdom</td>\n",
       "      <td>K02000001</td>\n",
       "      <td>2021-08-09</td>\n",
       "      <td>7779</td>\n",
       "      <td>6117540</td>\n",
       "    </tr>\n",
       "    <tr>\n",
       "      <th>1</th>\n",
       "      <td>overview</td>\n",
       "      <td>United Kingdom</td>\n",
       "      <td>K02000001</td>\n",
       "      <td>2021-08-08</td>\n",
       "      <td>20025</td>\n",
       "      <td>6109761</td>\n",
       "    </tr>\n",
       "    <tr>\n",
       "      <th>2</th>\n",
       "      <td>overview</td>\n",
       "      <td>United Kingdom</td>\n",
       "      <td>K02000001</td>\n",
       "      <td>2021-08-07</td>\n",
       "      <td>21021</td>\n",
       "      <td>6089736</td>\n",
       "    </tr>\n",
       "    <tr>\n",
       "      <th>3</th>\n",
       "      <td>overview</td>\n",
       "      <td>United Kingdom</td>\n",
       "      <td>K02000001</td>\n",
       "      <td>2021-08-06</td>\n",
       "      <td>27204</td>\n",
       "      <td>6068715</td>\n",
       "    </tr>\n",
       "    <tr>\n",
       "      <th>4</th>\n",
       "      <td>overview</td>\n",
       "      <td>United Kingdom</td>\n",
       "      <td>K02000001</td>\n",
       "      <td>2021-08-05</td>\n",
       "      <td>30901</td>\n",
       "      <td>6041511</td>\n",
       "    </tr>\n",
       "  </tbody>\n",
       "</table>\n",
       "</div>"
      ],
      "text/plain": [
       "   areaType        areaName   areaCode        date  newCasesBySpecimenDate  \\\n",
       "0  overview  United Kingdom  K02000001  2021-08-09                    7779   \n",
       "1  overview  United Kingdom  K02000001  2021-08-08                   20025   \n",
       "2  overview  United Kingdom  K02000001  2021-08-07                   21021   \n",
       "3  overview  United Kingdom  K02000001  2021-08-06                   27204   \n",
       "4  overview  United Kingdom  K02000001  2021-08-05                   30901   \n",
       "\n",
       "   cumCasesBySpecimenDate  \n",
       "0                 6117540  \n",
       "1                 6109761  \n",
       "2                 6089736  \n",
       "3                 6068715  \n",
       "4                 6041511  "
      ]
     },
     "execution_count": 15,
     "metadata": {},
     "output_type": "execute_result"
    }
   ],
   "source": [
    "from datetime import datetime\n",
    "\n",
    "cases= pd.read_csv(\"data_2021-Aug-10.csv\")\n",
    "cases.head()\n",
    "deaths= pd.read_csv(\"data_2021-Aug-10 (1).csv\")\n",
    "cases.head()"
   ]
  },
  {
   "cell_type": "code",
   "execution_count": 16,
   "metadata": {},
   "outputs": [],
   "source": [
    "period= deaths.date.shape[0]\n",
    "datetime0_deaths= datetime.strptime(deaths.date[period-1], '%Y-%m-%d').date()\n",
    "\n",
    "def add(element):\n",
    "    \n",
    "    element=datetime.strptime(element, '%Y-%m-%d').date()\n",
    "    delta= element-datetime0\n",
    "    return delta.days\n",
    "\n",
    "#deaths.date.apply(add)\n"
   ]
  },
  {
   "cell_type": "code",
   "execution_count": 17,
   "metadata": {},
   "outputs": [
    {
     "name": "stdout",
     "output_type": "stream",
     "text": [
      "(526, 6)\n",
      "(558, 6)\n"
     ]
    }
   ],
   "source": [
    "print(deaths.shape)\n",
    "print(cases.shape)\n",
    "cases=cases.iloc[:558-32]\n"
   ]
  },
  {
   "cell_type": "code",
   "execution_count": 18,
   "metadata": {},
   "outputs": [
    {
     "data": {
      "text/html": [
       "<div>\n",
       "<style scoped>\n",
       "    .dataframe tbody tr th:only-of-type {\n",
       "        vertical-align: middle;\n",
       "    }\n",
       "\n",
       "    .dataframe tbody tr th {\n",
       "        vertical-align: top;\n",
       "    }\n",
       "\n",
       "    .dataframe thead th {\n",
       "        text-align: right;\n",
       "    }\n",
       "</style>\n",
       "<table border=\"1\" class=\"dataframe\">\n",
       "  <thead>\n",
       "    <tr style=\"text-align: right;\">\n",
       "      <th></th>\n",
       "      <th>areaType</th>\n",
       "      <th>areaName</th>\n",
       "      <th>areaCode</th>\n",
       "      <th>date</th>\n",
       "      <th>newCasesBySpecimenDate</th>\n",
       "      <th>cumCasesBySpecimenDate</th>\n",
       "    </tr>\n",
       "  </thead>\n",
       "  <tbody>\n",
       "    <tr>\n",
       "      <th>0</th>\n",
       "      <td>overview</td>\n",
       "      <td>United Kingdom</td>\n",
       "      <td>K02000001</td>\n",
       "      <td>2021-08-09</td>\n",
       "      <td>7779</td>\n",
       "      <td>6117540</td>\n",
       "    </tr>\n",
       "    <tr>\n",
       "      <th>1</th>\n",
       "      <td>overview</td>\n",
       "      <td>United Kingdom</td>\n",
       "      <td>K02000001</td>\n",
       "      <td>2021-08-08</td>\n",
       "      <td>20025</td>\n",
       "      <td>6109761</td>\n",
       "    </tr>\n",
       "    <tr>\n",
       "      <th>2</th>\n",
       "      <td>overview</td>\n",
       "      <td>United Kingdom</td>\n",
       "      <td>K02000001</td>\n",
       "      <td>2021-08-07</td>\n",
       "      <td>21021</td>\n",
       "      <td>6089736</td>\n",
       "    </tr>\n",
       "    <tr>\n",
       "      <th>3</th>\n",
       "      <td>overview</td>\n",
       "      <td>United Kingdom</td>\n",
       "      <td>K02000001</td>\n",
       "      <td>2021-08-06</td>\n",
       "      <td>27204</td>\n",
       "      <td>6068715</td>\n",
       "    </tr>\n",
       "    <tr>\n",
       "      <th>4</th>\n",
       "      <td>overview</td>\n",
       "      <td>United Kingdom</td>\n",
       "      <td>K02000001</td>\n",
       "      <td>2021-08-05</td>\n",
       "      <td>30901</td>\n",
       "      <td>6041511</td>\n",
       "    </tr>\n",
       "    <tr>\n",
       "      <th>...</th>\n",
       "      <td>...</td>\n",
       "      <td>...</td>\n",
       "      <td>...</td>\n",
       "      <td>...</td>\n",
       "      <td>...</td>\n",
       "      <td>...</td>\n",
       "    </tr>\n",
       "    <tr>\n",
       "      <th>337</th>\n",
       "      <td>overview</td>\n",
       "      <td>United Kingdom</td>\n",
       "      <td>K02000001</td>\n",
       "      <td>2020-09-06</td>\n",
       "      <td>2442</td>\n",
       "      <td>355383</td>\n",
       "    </tr>\n",
       "    <tr>\n",
       "      <th>338</th>\n",
       "      <td>overview</td>\n",
       "      <td>United Kingdom</td>\n",
       "      <td>K02000001</td>\n",
       "      <td>2020-09-05</td>\n",
       "      <td>2543</td>\n",
       "      <td>352941</td>\n",
       "    </tr>\n",
       "    <tr>\n",
       "      <th>339</th>\n",
       "      <td>overview</td>\n",
       "      <td>United Kingdom</td>\n",
       "      <td>K02000001</td>\n",
       "      <td>2020-09-04</td>\n",
       "      <td>3037</td>\n",
       "      <td>350398</td>\n",
       "    </tr>\n",
       "    <tr>\n",
       "      <th>340</th>\n",
       "      <td>overview</td>\n",
       "      <td>United Kingdom</td>\n",
       "      <td>K02000001</td>\n",
       "      <td>2020-09-03</td>\n",
       "      <td>3093</td>\n",
       "      <td>347361</td>\n",
       "    </tr>\n",
       "    <tr>\n",
       "      <th>341</th>\n",
       "      <td>overview</td>\n",
       "      <td>United Kingdom</td>\n",
       "      <td>K02000001</td>\n",
       "      <td>2020-09-02</td>\n",
       "      <td>2993</td>\n",
       "      <td>344268</td>\n",
       "    </tr>\n",
       "  </tbody>\n",
       "</table>\n",
       "<p>342 rows × 6 columns</p>\n",
       "</div>"
      ],
      "text/plain": [
       "     areaType        areaName   areaCode        date  newCasesBySpecimenDate  \\\n",
       "0    overview  United Kingdom  K02000001  2021-08-09                    7779   \n",
       "1    overview  United Kingdom  K02000001  2021-08-08                   20025   \n",
       "2    overview  United Kingdom  K02000001  2021-08-07                   21021   \n",
       "3    overview  United Kingdom  K02000001  2021-08-06                   27204   \n",
       "4    overview  United Kingdom  K02000001  2021-08-05                   30901   \n",
       "..        ...             ...        ...         ...                     ...   \n",
       "337  overview  United Kingdom  K02000001  2020-09-06                    2442   \n",
       "338  overview  United Kingdom  K02000001  2020-09-05                    2543   \n",
       "339  overview  United Kingdom  K02000001  2020-09-04                    3037   \n",
       "340  overview  United Kingdom  K02000001  2020-09-03                    3093   \n",
       "341  overview  United Kingdom  K02000001  2020-09-02                    2993   \n",
       "\n",
       "     cumCasesBySpecimenDate  \n",
       "0                   6117540  \n",
       "1                   6109761  \n",
       "2                   6089736  \n",
       "3                   6068715  \n",
       "4                   6041511  \n",
       "..                      ...  \n",
       "337                  355383  \n",
       "338                  352941  \n",
       "339                  350398  \n",
       "340                  347361  \n",
       "341                  344268  \n",
       "\n",
       "[342 rows x 6 columns]"
      ]
     },
     "execution_count": 18,
     "metadata": {},
     "output_type": "execute_result"
    }
   ],
   "source": [
    "sep_onwrd_cases=cases.drop(np.arange(342,cases.shape[0]),axis=0)\n",
    "sep_onwrd_deaths=deaths.drop(np.arange(342,deaths.shape[0]),axis=0)\n",
    "sep_onwrd_cases"
   ]
  },
  {
   "cell_type": "code",
   "execution_count": 19,
   "metadata": {},
   "outputs": [
    {
     "data": {
      "text/plain": [
       "[<matplotlib.lines.Line2D at 0x1ef81fb8640>]"
      ]
     },
     "execution_count": 19,
     "metadata": {},
     "output_type": "execute_result"
    },
    {
     "data": {
      "image/png": "[encoded data removed]",
      "text/plain": [
       "<Figure size 432x288 with 1 Axes>"
      ]
     },
     "metadata": {
      "needs_background": "light"
     },
     "output_type": "display_data"
    }
   ],
   "source": [
    "plt.plot(np.arange(deaths.shape[0]) , deaths.newDeaths28DaysByDeathDate)\n",
    "\n"
   ]
  },
  {
   "cell_type": "code",
   "execution_count": 20,
   "metadata": {},
   "outputs": [
    {
     "data": {
      "text/plain": [
       "<BarContainer object of 342 artists>"
      ]
     },
     "execution_count": 20,
     "metadata": {},
     "output_type": "execute_result"
    },
    {
     "data": {
      "image/png": "[encoded data removed]",
      "text/plain": [
       "<Figure size 432x288 with 1 Axes>"
      ]
     },
     "metadata": {
      "needs_background": "light"
     },
     "output_type": "display_data"
    }
   ],
   "source": [
    "plt.bar(np.arange(342) , sep_onwrd_cases.newCasesBySpecimenDate)\n",
    "plt.bar(np.arange(342) , sep_onwrd_deaths.newDeaths28DaysByDeathDate)\n"
   ]
  },
  {
   "cell_type": "code",
   "execution_count": 21,
   "metadata": {},
   "outputs": [
    {
     "data": {
      "text/plain": [
       "<BarContainer object of 342 artists>"
      ]
     },
     "execution_count": 21,
     "metadata": {},
     "output_type": "execute_result"
    },
    {
     "data": {
      "image/png": "[encoded data removed]",
      "text/plain": [
       "<Figure size 432x288 with 1 Axes>"
      ]
     },
     "metadata": {
      "needs_background": "light"
     },
     "output_type": "display_data"
    }
   ],
   "source": [
    "plt.bar(np.arange(342) , sep_onwrd_cases.newCasesBySpecimenDate/sep_onwrd_cases.newCasesBySpecimenDate.max())\n",
    "plt.bar(np.arange(342) , sep_onwrd_deaths.newDeaths28DaysByDeathDate/sep_onwrd_deaths.newDeaths28DaysByDeathDate.max(), alpha=0.7)"
   ]
  },
  {
   "cell_type": "code",
   "execution_count": null,
   "metadata": {},
   "outputs": [],
   "source": []
  },
  {
   "cell_type": "code",
   "execution_count": 22,
   "metadata": {},
   "outputs": [
    {
     "data": {
      "text/plain": [
       "<BarContainer object of 342 artists>"
      ]
     },
     "execution_count": 22,
     "metadata": {},
     "output_type": "execute_result"
    },
    {
     "data": {
      "image/png": "[encoded data removed]",
      "text/plain": [
       "<Figure size 432x288 with 1 Axes>"
      ]
     },
     "metadata": {
      "needs_background": "light"
     },
     "output_type": "display_data"
    }
   ],
   "source": [
    "plt.bar(np.arange(342) , sep_onwrd_cases.newCasesBySpecimenDate/sep_onwrd_cases.newCasesBySpecimenDate.max())\n",
    "plt.bar(np.arange(342)+15 , sep_onwrd_deaths.newDeaths28DaysByDeathDate/sep_onwrd_deaths.newDeaths28DaysByDeathDate.max(), alpha=0.7)"
   ]
  },
  {
   "cell_type": "code",
   "execution_count": 23,
   "metadata": {},
   "outputs": [
    {
     "data": {
      "text/plain": [
       "<matplotlib.collections.PathCollection at 0x1ef820e2b20>"
      ]
     },
     "execution_count": 23,
     "metadata": {},
     "output_type": "execute_result"
    },
    {
     "data": {
      "image/png": "[encoded data removed]",
      "text/plain": [
       "<Figure size 432x288 with 1 Axes>"
      ]
     },
     "metadata": {
      "needs_background": "light"
     },
     "output_type": "display_data"
    }
   ],
   "source": [
    "\n",
    "green=[\"green\"]*50\n",
    "orange=[\"orange\"]*180\n",
    "yellow=[\"yellow\"]*(70+27)\n",
    "colors=green+orange+yellow\n",
    "plt.scatter( sep_onwrd_cases.newCasesBySpecimenDate[15:] , sep_onwrd_deaths.newDeaths28DaysByDeathDate[:342-15], c=colors, alpha=0.7)\n"
   ]
  },
  {
   "cell_type": "code",
   "execution_count": 24,
   "metadata": {},
   "outputs": [
    {
     "name": "stderr",
     "output_type": "stream",
     "text": [
      "C:\\Users\\dario\\anaconda3\\lib\\site-packages\\sklearn\\utils\\validation.py:73: DataConversionWarning: A column-vector y was passed when a 1d array was expected. Please change the shape of y to (n_samples, ), for example using ravel().\n",
      "  return f(**kwargs)\n",
      "C:\\Users\\dario\\anaconda3\\lib\\site-packages\\sklearn\\utils\\validation.py:73: DataConversionWarning: A column-vector y was passed when a 1d array was expected. Please change the shape of y to (n_samples, ), for example using ravel().\n",
      "  return f(**kwargs)\n"
     ]
    }
   ],
   "source": [
    "from sklearn.svm import SVR\n",
    "\n",
    "X_train_1=sep_onwrd_cases.newCasesBySpecimenDate.values[115:295].reshape(-1, 1)\n",
    "Y_train_1=sep_onwrd_deaths.newDeaths28DaysByDeathDate.values[100:280].reshape(-1, 1)\n",
    "svr_1 = SVR(kernel='linear',)\n",
    "svr_1.fit(X_train_1 , Y_train_1)\n",
    "\n",
    "X_train_2=sep_onwrd_cases.newCasesBySpecimenDate.values[295:].reshape(-1, 1)\n",
    "Y_train_2=sep_onwrd_deaths.newDeaths28DaysByDeathDate.values[280:342-15].reshape(-1, 1)\n",
    "svr_2 = SVR(kernel='rbf',)\n",
    "svr_2.fit(X_train_2 , Y_train_2)\n",
    "\n",
    "X_pred=sep_onwrd_cases.newCasesBySpecimenDate.values[:100].reshape(-1, 1)\n",
    "\n",
    "pred_1=svr_1.predict(X_pred)\n",
    "pred_2=svr_2.predict(X_pred)\n"
   ]
  },
  {
   "cell_type": "code",
   "execution_count": 25,
   "metadata": {},
   "outputs": [
    {
     "name": "stdout",
     "output_type": "stream",
     "text": [
      "lives saved:34588\n"
     ]
    },
    {
     "data": {
      "text/plain": [
       "<matplotlib.collections.PathCollection at 0x1ef859a0fd0>"
      ]
     },
     "execution_count": 25,
     "metadata": {},
     "output_type": "execute_result"
    },
    {
     "data": {
      "image/png": "[encoded data removed]",
      "text/plain": [
       "<Figure size 432x288 with 1 Axes>"
      ]
     },
     "metadata": {
      "needs_background": "light"
     },
     "output_type": "display_data"
    }
   ],
   "source": [
    "\n",
    "saved_lives=pred_1-sep_onwrd_deaths.newDeaths28DaysByDeathDate.values[:100]\n",
    "print(\"lives saved:{}\".format(int(saved_lives.sum())))\n",
    "\n",
    "#plt.bar(np.arange(342) , sep_onwrd_cases.newCasesBySpecimenDate/sep_onwrd_cases.newCasesBySpecimenDate.max())\n",
    "plt.bar(np.arange(100),pred_1/pred_1.max(), alpha=0.5, color=\"red\")\n",
    "plt.bar(np.arange(342)+15 , sep_onwrd_deaths.newDeaths28DaysByDeathDate/sep_onwrd_deaths.newDeaths28DaysByDeathDate.max(), )\n",
    "\n",
    "plt.scatter(np.arange(342) , sep_onwrd_cases.newCasesBySpecimenDate/sep_onwrd_cases.newCasesBySpecimenDate.max(),alpha=0.3,color=\"grey\")"
   ]
  },
  {
   "cell_type": "code",
   "execution_count": null,
   "metadata": {},
   "outputs": [],
   "source": []
  }
 ],
 "metadata": {
  "kernelspec": {
   "display_name": "Python 3",
   "language": "python",
   "name": "python3"
  },
  "language_info": {
   "codemirror_mode": {
    "name": "ipython",
    "version": 3
   },
   "file_extension": ".py",
   "mimetype": "text/x-python",
   "name": "python",
   "nbconvert_exporter": "python",
   "pygments_lexer": "ipython3",
   "version": "3.8.3"
  }
 },
 "nbformat": 4,
 "nbformat_minor": 4
}
